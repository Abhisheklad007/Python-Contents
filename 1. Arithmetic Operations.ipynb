{
 "cells": [
  {
   "cell_type": "markdown",
   "id": "e6b706be",
   "metadata": {},
   "source": [
    "# Important Arethmetic Operations\n",
    "\n",
    "# +,-,*,/,%"
   ]
  },
  {
   "cell_type": "code",
   "execution_count": 8,
   "id": "165e3d9f",
   "metadata": {},
   "outputs": [
    {
     "data": {
      "text/plain": [
       "775"
      ]
     },
     "execution_count": 8,
     "metadata": {},
     "output_type": "execute_result"
    }
   ],
   "source": [
    "# Addition\n",
    "\n",
    "526 + 249\n",
    "    "
   ]
  },
  {
   "cell_type": "code",
   "execution_count": 13,
   "id": "e0ef7d46",
   "metadata": {},
   "outputs": [
    {
     "data": {
      "text/plain": [
       "70840"
      ]
     },
     "execution_count": 13,
     "metadata": {},
     "output_type": "execute_result"
    }
   ],
   "source": [
    "# Subtraction\n",
    "\n",
    "95426 - 24586\n"
   ]
  },
  {
   "cell_type": "code",
   "execution_count": 14,
   "id": "ea2bee52",
   "metadata": {},
   "outputs": [
    {
     "data": {
      "text/plain": [
       "13296844"
      ]
     },
     "execution_count": 14,
     "metadata": {},
     "output_type": "execute_result"
    }
   ],
   "source": [
    "# Multiplication\n",
    "\n",
    "2594 * 5126\n"
   ]
  },
  {
   "cell_type": "code",
   "execution_count": 11,
   "id": "ac7da320",
   "metadata": {},
   "outputs": [
    {
     "data": {
      "text/plain": [
       "87.5"
      ]
     },
     "execution_count": 11,
     "metadata": {},
     "output_type": "execute_result"
    }
   ],
   "source": [
    "# Division\n",
    "\n",
    "525 / 6\n"
   ]
  },
  {
   "cell_type": "code",
   "execution_count": 12,
   "id": "d07db205",
   "metadata": {},
   "outputs": [
    {
     "data": {
      "text/plain": [
       "2"
      ]
     },
     "execution_count": 12,
     "metadata": {},
     "output_type": "execute_result"
    }
   ],
   "source": [
    "# Remainder\n",
    "\n",
    "512 % 5   # % = module"
   ]
  },
  {
   "cell_type": "code",
   "execution_count": 15,
   "id": "9a145817",
   "metadata": {},
   "outputs": [
    {
     "data": {
      "text/plain": [
       "True"
      ]
     },
     "execution_count": 15,
     "metadata": {},
     "output_type": "execute_result"
    }
   ],
   "source": [
    "# Comparison \n",
    "\n",
    "# Greater than\n",
    "\n",
    "10 > 6.5"
   ]
  },
  {
   "cell_type": "code",
   "execution_count": 17,
   "id": "10121846",
   "metadata": {},
   "outputs": [
    {
     "data": {
      "text/plain": [
       "False"
      ]
     },
     "execution_count": 17,
     "metadata": {},
     "output_type": "execute_result"
    }
   ],
   "source": [
    "23 > 27"
   ]
  },
  {
   "cell_type": "code",
   "execution_count": 16,
   "id": "0e7d4b70",
   "metadata": {},
   "outputs": [
    {
     "data": {
      "text/plain": [
       "True"
      ]
     },
     "execution_count": 16,
     "metadata": {},
     "output_type": "execute_result"
    }
   ],
   "source": [
    "# Less than\n",
    "\n",
    "26 < 56\n"
   ]
  },
  {
   "cell_type": "code",
   "execution_count": 18,
   "id": "ba8b090e",
   "metadata": {},
   "outputs": [
    {
     "data": {
      "text/plain": [
       "False"
      ]
     },
     "execution_count": 18,
     "metadata": {},
     "output_type": "execute_result"
    }
   ],
   "source": [
    "556 < 256"
   ]
  },
  {
   "cell_type": "code",
   "execution_count": 19,
   "id": "9b50ad89",
   "metadata": {},
   "outputs": [
    {
     "data": {
      "text/plain": [
       "True"
      ]
     },
     "execution_count": 19,
     "metadata": {},
     "output_type": "execute_result"
    }
   ],
   "source": [
    "# Equal to equal to\n",
    "\n",
    "26 == 26"
   ]
  },
  {
   "cell_type": "code",
   "execution_count": 20,
   "id": "1f3c9f8b",
   "metadata": {},
   "outputs": [
    {
     "data": {
      "text/plain": [
       "False"
      ]
     },
     "execution_count": 20,
     "metadata": {},
     "output_type": "execute_result"
    }
   ],
   "source": [
    "1 == 0"
   ]
  },
  {
   "cell_type": "code",
   "execution_count": 26,
   "id": "7e2a2355",
   "metadata": {},
   "outputs": [
    {
     "data": {
      "text/plain": [
       "True"
      ]
     },
     "execution_count": 26,
     "metadata": {},
     "output_type": "execute_result"
    }
   ],
   "source": [
    "# Not equal to\n",
    "\n",
    "56 != 57\n"
   ]
  }
 ],
 "metadata": {
  "kernelspec": {
   "display_name": "Python 3 (ipykernel)",
   "language": "python",
   "name": "python3"
  },
  "language_info": {
   "codemirror_mode": {
    "name": "ipython",
    "version": 3
   },
   "file_extension": ".py",
   "mimetype": "text/x-python",
   "name": "python",
   "nbconvert_exporter": "python",
   "pygments_lexer": "ipython3",
   "version": "3.9.12"
  }
 },
 "nbformat": 4,
 "nbformat_minor": 5
}
