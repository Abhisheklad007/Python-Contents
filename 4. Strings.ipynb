{
 "cells": [
  {
   "cell_type": "markdown",
   "id": "d9a4c042",
   "metadata": {},
   "source": [
    "# Strings\n"
   ]
  },
  {
   "cell_type": "code",
   "execution_count": 7,
   "id": "38ca0894",
   "metadata": {},
   "outputs": [
    {
     "data": {
      "text/plain": [
       "'hello'"
      ]
     },
     "execution_count": 7,
     "metadata": {},
     "output_type": "execute_result"
    }
   ],
   "source": [
    "a = \"hello\"\n",
    "a"
   ]
  },
  {
   "cell_type": "code",
   "execution_count": 2,
   "id": "d76401ca",
   "metadata": {},
   "outputs": [
    {
     "data": {
      "text/plain": [
       "str"
      ]
     },
     "execution_count": 2,
     "metadata": {},
     "output_type": "execute_result"
    }
   ],
   "source": [
    "type(a)"
   ]
  },
  {
   "cell_type": "code",
   "execution_count": 8,
   "id": "0310326d",
   "metadata": {},
   "outputs": [
    {
     "data": {
      "text/plain": [
       "5"
      ]
     },
     "execution_count": 8,
     "metadata": {},
     "output_type": "execute_result"
    }
   ],
   "source": [
    "len(a)"
   ]
  },
  {
   "cell_type": "code",
   "execution_count": 19,
   "id": "8966d38d",
   "metadata": {},
   "outputs": [
    {
     "data": {
      "text/plain": [
       "'o'"
      ]
     },
     "execution_count": 19,
     "metadata": {},
     "output_type": "execute_result"
    }
   ],
   "source": [
    "x = \"don\"\n",
    "\n",
    "x[1]"
   ]
  },
  {
   "cell_type": "markdown",
   "id": "b44d9d1d",
   "metadata": {},
   "source": [
    "# Methods of strings"
   ]
  },
  {
   "cell_type": "code",
   "execution_count": 23,
   "id": "9e06a976",
   "metadata": {},
   "outputs": [
    {
     "data": {
      "text/plain": [
       "'My name is abhi'"
      ]
     },
     "execution_count": 23,
     "metadata": {},
     "output_type": "execute_result"
    }
   ],
   "source": [
    "#1 Capitalize\n",
    "\n",
    "name = \"my name is Abhi\"\n",
    "\n",
    "name.capitalize()"
   ]
  },
  {
   "cell_type": "code",
   "execution_count": 26,
   "id": "04a2f370",
   "metadata": {},
   "outputs": [
    {
     "data": {
      "text/plain": [
       "2"
      ]
     },
     "execution_count": 26,
     "metadata": {},
     "output_type": "execute_result"
    }
   ],
   "source": [
    "#2 Count method\n",
    "\n",
    "name = \"my name is abhi\"\n",
    "\n",
    "name.count('a')"
   ]
  },
  {
   "cell_type": "code",
   "execution_count": 29,
   "id": "4ed12ac8",
   "metadata": {},
   "outputs": [
    {
     "data": {
      "text/plain": [
       "True"
      ]
     },
     "execution_count": 29,
     "metadata": {},
     "output_type": "execute_result"
    }
   ],
   "source": [
    "#3 startswith\n",
    "\n",
    "x = 'welcome to world'\n",
    "\n",
    "x.startswith('wel')"
   ]
  },
  {
   "cell_type": "code",
   "execution_count": 30,
   "id": "f4b88060",
   "metadata": {},
   "outputs": [],
   "source": [
    "#4 endswith\n",
    "\n",
    "# as same of startswith"
   ]
  },
  {
   "cell_type": "code",
   "execution_count": 31,
   "id": "fe19b6fb",
   "metadata": {},
   "outputs": [
    {
     "data": {
      "text/plain": [
       "-1"
      ]
     },
     "execution_count": 31,
     "metadata": {},
     "output_type": "execute_result"
    }
   ],
   "source": [
    "#5 Find and index\n",
    "\n",
    "# Read in book\n",
    "\n",
    "A = \"welcom\"\n",
    "A.find('z')"
   ]
  },
  {
   "cell_type": "code",
   "execution_count": 32,
   "id": "6ce5acd0",
   "metadata": {},
   "outputs": [
    {
     "data": {
      "text/plain": [
       "False"
      ]
     },
     "execution_count": 32,
     "metadata": {},
     "output_type": "execute_result"
    }
   ],
   "source": [
    "#6 isalpha\n",
    "\n",
    "x = 'welcome to world'\n",
    "\n",
    "x.isalpha()"
   ]
  },
  {
   "cell_type": "code",
   "execution_count": 33,
   "id": "61cad96d",
   "metadata": {},
   "outputs": [
    {
     "data": {
      "text/plain": [
       "True"
      ]
     },
     "execution_count": 33,
     "metadata": {},
     "output_type": "execute_result"
    }
   ],
   "source": [
    "y = \"hello\"\n",
    "y.isalpha()"
   ]
  },
  {
   "cell_type": "code",
   "execution_count": 34,
   "id": "58c9a345",
   "metadata": {},
   "outputs": [
    {
     "data": {
      "text/plain": [
       "True"
      ]
     },
     "execution_count": 34,
     "metadata": {},
     "output_type": "execute_result"
    }
   ],
   "source": [
    "y.islower()"
   ]
  },
  {
   "cell_type": "code",
   "execution_count": 35,
   "id": "5ed10849",
   "metadata": {},
   "outputs": [
    {
     "data": {
      "text/plain": [
       "False"
      ]
     },
     "execution_count": 35,
     "metadata": {},
     "output_type": "execute_result"
    }
   ],
   "source": [
    "y.isupper() # isupper method"
   ]
  },
  {
   "cell_type": "code",
   "execution_count": 36,
   "id": "159f1941",
   "metadata": {},
   "outputs": [
    {
     "data": {
      "text/plain": [
       "True"
      ]
     },
     "execution_count": 36,
     "metadata": {},
     "output_type": "execute_result"
    }
   ],
   "source": [
    "s = \"1234\"\n",
    "\n",
    "s.isnumeric()"
   ]
  },
  {
   "cell_type": "code",
   "execution_count": 37,
   "id": "c4f54626",
   "metadata": {},
   "outputs": [
    {
     "data": {
      "text/plain": [
       "False"
      ]
     },
     "execution_count": 37,
     "metadata": {},
     "output_type": "execute_result"
    }
   ],
   "source": [
    "s = \"1234z\"\n",
    "\n",
    "s.isnumeric()"
   ]
  },
  {
   "cell_type": "code",
   "execution_count": 38,
   "id": "9228306d",
   "metadata": {},
   "outputs": [
    {
     "data": {
      "text/plain": [
       "'ABHISHEK'"
      ]
     },
     "execution_count": 38,
     "metadata": {},
     "output_type": "execute_result"
    }
   ],
   "source": [
    "a = \"abhishek\"\n",
    "\n",
    "a.upper()"
   ]
  },
  {
   "cell_type": "code",
   "execution_count": 39,
   "id": "cd40908e",
   "metadata": {},
   "outputs": [
    {
     "data": {
      "text/plain": [
       "'abhishek'"
      ]
     },
     "execution_count": 39,
     "metadata": {},
     "output_type": "execute_result"
    }
   ],
   "source": [
    "a = \"ABHISHEK\"\n",
    "a.lower()"
   ]
  },
  {
   "cell_type": "code",
   "execution_count": 15,
   "id": "b55664cf",
   "metadata": {},
   "outputs": [
    {
     "data": {
      "text/plain": [
       "'not a quilty.'"
      ]
     },
     "execution_count": 15,
     "metadata": {},
     "output_type": "execute_result"
    }
   ],
   "source": [
    "#7 lstrip method\n",
    "\n",
    "string = \"fftfffffbbbbffmffffffnot a quilty.\"\n",
    "\n",
    "string.lstrip(\"bfmt\")"
   ]
  },
  {
   "cell_type": "code",
   "execution_count": 44,
   "id": "9b1d3162",
   "metadata": {},
   "outputs": [
    {
     "data": {
      "text/plain": [
       "'i am rahul'"
      ]
     },
     "execution_count": 44,
     "metadata": {},
     "output_type": "execute_result"
    }
   ],
   "source": [
    "#8 Replace method\n",
    "\n",
    "z= \"i am abhi\"\n",
    "\n",
    "z.replace(\"abhi\",\"rahul\")"
   ]
  },
  {
   "cell_type": "code",
   "execution_count": 46,
   "id": "a419dc94",
   "metadata": {},
   "outputs": [
    {
     "data": {
      "text/plain": [
       "['abhi', 'gmail.com']"
      ]
     },
     "execution_count": 46,
     "metadata": {},
     "output_type": "execute_result"
    }
   ],
   "source": [
    "# Split method\n",
    "\n",
    "str1 = \"abhi@gmail.com\"\n",
    "\n",
    "str1.split(\"@\")"
   ]
  },
  {
   "cell_type": "code",
   "execution_count": 47,
   "id": "ad73c3e9",
   "metadata": {},
   "outputs": [
    {
     "data": {
      "text/plain": [
       "['p', 'og', 'amme', 's']"
      ]
     },
     "execution_count": 47,
     "metadata": {},
     "output_type": "execute_result"
    }
   ],
   "source": [
    "str = \"programmers\"\n",
    "\n",
    "str.split(\"r\")   # answer is given in list"
   ]
  },
  {
   "cell_type": "code",
   "execution_count": 18,
   "id": "4a415a2d",
   "metadata": {},
   "outputs": [
    {
     "data": {
      "text/plain": [
       "'gmail.com'"
      ]
     },
     "execution_count": 18,
     "metadata": {},
     "output_type": "execute_result"
    }
   ],
   "source": [
    "str = \"abhi@gmail.com\"\n",
    "\n",
    "str.split(\"@\")[1]"
   ]
  },
  {
   "cell_type": "code",
   "execution_count": 57,
   "id": "3c14c308",
   "metadata": {},
   "outputs": [
    {
     "data": {
      "text/plain": [
       "'xyz'"
      ]
     },
     "execution_count": 57,
     "metadata": {},
     "output_type": "execute_result"
    }
   ],
   "source": [
    "# Complicated example\n",
    "\n",
    "l = [\"abc@gmail.com\",\"xyz@gmail.com\"]\n",
    "\n",
    "l[1].split(\"@\")[0]"
   ]
  },
  {
   "cell_type": "code",
   "execution_count": 58,
   "id": "3fa7e0f6",
   "metadata": {},
   "outputs": [
    {
     "data": {
      "text/plain": [
       "6"
      ]
     },
     "execution_count": 58,
     "metadata": {},
     "output_type": "execute_result"
    }
   ],
   "source": [
    "l = [1,2,3,[4,5,6],7,8]\n",
    "\n",
    "l[3][2]"
   ]
  },
  {
   "cell_type": "code",
   "execution_count": 64,
   "id": "f0425685",
   "metadata": {},
   "outputs": [
    {
     "data": {
      "text/plain": [
       "53"
      ]
     },
     "execution_count": 64,
     "metadata": {},
     "output_type": "execute_result"
    }
   ],
   "source": [
    "l = [1,2,3,[4,[2,24,[535,[53]]]]]\n",
    "\n",
    "l[3][1][2][1][0]"
   ]
  },
  {
   "cell_type": "code",
   "execution_count": 65,
   "id": "eb5d8a21",
   "metadata": {},
   "outputs": [
    {
     "data": {
      "text/plain": [
       "53"
      ]
     },
     "execution_count": 65,
     "metadata": {},
     "output_type": "execute_result"
    }
   ],
   "source": [
    "# esiest way\n",
    "\n",
    "l[-1][-1][-1][-1][-1]"
   ]
  },
  {
   "cell_type": "code",
   "execution_count": 1,
   "id": "073a45b6",
   "metadata": {},
   "outputs": [
    {
     "data": {
      "text/plain": [
       "4"
      ]
     },
     "execution_count": 1,
     "metadata": {},
     "output_type": "execute_result"
    }
   ],
   "source": [
    "A = \"welcom\"\n",
    "A.index('o')"
   ]
  },
  {
   "cell_type": "code",
   "execution_count": null,
   "id": "e769dae7",
   "metadata": {},
   "outputs": [],
   "source": []
  }
 ],
 "metadata": {
  "kernelspec": {
   "display_name": "Python 3 (ipykernel)",
   "language": "python",
   "name": "python3"
  },
  "language_info": {
   "codemirror_mode": {
    "name": "ipython",
    "version": 3
   },
   "file_extension": ".py",
   "mimetype": "text/x-python",
   "name": "python",
   "nbconvert_exporter": "python",
   "pygments_lexer": "ipython3",
   "version": "3.9.12"
  }
 },
 "nbformat": 4,
 "nbformat_minor": 5
}
