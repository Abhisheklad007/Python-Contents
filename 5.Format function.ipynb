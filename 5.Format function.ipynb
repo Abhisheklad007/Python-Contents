{
 "cells": [
  {
   "cell_type": "markdown",
   "id": "6c2af43e",
   "metadata": {},
   "source": [
    "# Format Function"
   ]
  },
  {
   "cell_type": "code",
   "execution_count": 1,
   "id": "9aae5664",
   "metadata": {},
   "outputs": [
    {
     "data": {
      "text/plain": [
       "'my name is abhi'"
      ]
     },
     "execution_count": 1,
     "metadata": {},
     "output_type": "execute_result"
    }
   ],
   "source": [
    "\"my name is {}\". format(\"abhi\")"
   ]
  },
  {
   "cell_type": "code",
   "execution_count": 2,
   "id": "7efc2935",
   "metadata": {},
   "outputs": [
    {
     "data": {
      "text/plain": [
       "'my name is abhi, my age is 25'"
      ]
     },
     "execution_count": 2,
     "metadata": {},
     "output_type": "execute_result"
    }
   ],
   "source": [
    "\"my name is {}, my age is {}\". format(\"abhi\",25)"
   ]
  },
  {
   "cell_type": "code",
   "execution_count": 3,
   "id": "c83ecc77",
   "metadata": {},
   "outputs": [
    {
     "data": {
      "text/plain": [
       "'my name is abhi, my age is 25, my city is pune'"
      ]
     },
     "execution_count": 3,
     "metadata": {},
     "output_type": "execute_result"
    }
   ],
   "source": [
    "\"my name is {Name}, my age is {age}, my city is {city}\". format(Name=\"abhi\",age=25,city=\"pune\")"
   ]
  },
  {
   "cell_type": "code",
   "execution_count": 4,
   "id": "ba5db789",
   "metadata": {},
   "outputs": [
    {
     "data": {
      "text/plain": [
       "'my name is abc, my age is 25,'"
      ]
     },
     "execution_count": 4,
     "metadata": {},
     "output_type": "execute_result"
    }
   ],
   "source": [
    "\"my name is {:s}, my age is {:d},\". format(\"abc\",25)"
   ]
  },
  {
   "cell_type": "code",
   "execution_count": null,
   "id": "23720df8",
   "metadata": {},
   "outputs": [],
   "source": [
    "# here s = string value\n",
    "       d = decimal value"
   ]
  },
  {
   "cell_type": "code",
   "execution_count": 8,
   "id": "bfac8252",
   "metadata": {},
   "outputs": [
    {
     "name": "stdout",
     "output_type": "stream",
     "text": [
      "my name is swapnil,my age is 23,my city is pune\n",
      "my name is viky,my age is 35,my city is nandani\n",
      "my name is vaibhav,my age is 25,my city is kolhapur\n",
      "my name is me,my age is 26,my city is sangli\n"
     ]
    }
   ],
   "source": [
    "# example\n",
    "\n",
    "l = [\"swapnil\",\"viky\",\"vaibhav\",\"me\"]\n",
    "a = [23,35,25,26]\n",
    "c = [\"pune\",\"nandani\",\"kolhapur\",\"sangli\"]\n",
    "\n",
    "for i in range (len(l)):\n",
    "    print(\"my name is {},my age is {},my city is {}\". format(l[i],a[i],c[i]))\n"
   ]
  },
  {
   "cell_type": "code",
   "execution_count": 9,
   "id": "ca995274",
   "metadata": {},
   "outputs": [
    {
     "name": "stdout",
     "output_type": "stream",
     "text": [
      "For only 49.00 dollars!\n"
     ]
    }
   ],
   "source": [
    "txt = \"For only {price:.2f} dollars!\"\n",
    "print(txt.format(price = 49))"
   ]
  },
  {
   "cell_type": "code",
   "execution_count": null,
   "id": "2d925d0b",
   "metadata": {},
   "outputs": [],
   "source": []
  },
  {
   "cell_type": "code",
   "execution_count": null,
   "id": "2532c80f",
   "metadata": {},
   "outputs": [],
   "source": []
  },
  {
   "cell_type": "code",
   "execution_count": null,
   "id": "e12c88ec",
   "metadata": {},
   "outputs": [],
   "source": []
  }
 ],
 "metadata": {
  "kernelspec": {
   "display_name": "Python 3 (ipykernel)",
   "language": "python",
   "name": "python3"
  },
  "language_info": {
   "codemirror_mode": {
    "name": "ipython",
    "version": 3
   },
   "file_extension": ".py",
   "mimetype": "text/x-python",
   "name": "python",
   "nbconvert_exporter": "python",
   "pygments_lexer": "ipython3",
   "version": "3.9.12"
  }
 },
 "nbformat": 4,
 "nbformat_minor": 5
}
