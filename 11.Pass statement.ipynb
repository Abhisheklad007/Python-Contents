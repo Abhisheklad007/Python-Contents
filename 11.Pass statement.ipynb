{
 "cells": [
  {
   "cell_type": "markdown",
   "id": "b90ef774",
   "metadata": {},
   "source": [
    "# Pass Statement"
   ]
  },
  {
   "cell_type": "code",
   "execution_count": 6,
   "id": "7b80c9a7",
   "metadata": {},
   "outputs": [
    {
     "name": "stdout",
     "output_type": "stream",
     "text": [
      "a\n",
      "b\n",
      "h\n",
      "i\n",
      "this is a pass block\n",
      "s\n",
      "h\n",
      "e\n",
      "k\n"
     ]
    }
   ],
   "source": [
    "for letter in \"abhishek\":\n",
    "    if letter == \"s\":\n",
    "        pass\n",
    "        print('this is a pass block')\n",
    "    print(letter)"
   ]
  },
  {
   "cell_type": "code",
   "execution_count": 7,
   "id": "1bfb66b3",
   "metadata": {},
   "outputs": [
    {
     "name": "stdout",
     "output_type": "stream",
     "text": [
      "a\n",
      "b\n",
      "h\n",
      "i\n",
      "this is a pass block\n",
      "s\n",
      "h\n",
      "e\n",
      "k\n",
      " \n",
      "a\n",
      "k\n",
      "this is a pass block\n",
      "s\n",
      "h\n",
      "y\n"
     ]
    }
   ],
   "source": [
    "for letter in \"abhishek akshy\":\n",
    "    if letter == \"s\":\n",
    "        pass\n",
    "        print('this is a pass block')\n",
    "    print(letter)"
   ]
  },
  {
   "cell_type": "code",
   "execution_count": 11,
   "id": "5eccb430",
   "metadata": {},
   "outputs": [
    {
     "name": "stdout",
     "output_type": "stream",
     "text": [
      "odd\n",
      "1\n",
      "even number\n",
      "2\n",
      "odd\n",
      "3\n",
      "even number\n",
      "4\n",
      "odd\n",
      "5\n",
      "even number\n",
      "6\n",
      "odd\n",
      "7\n",
      "even number\n",
      "8\n",
      "odd\n",
      "9\n"
     ]
    }
   ],
   "source": [
    "for i in range(1,10):\n",
    "    if i%2==0:\n",
    "        pass\n",
    "        print(\"even number\")\n",
    "    else:\n",
    "        print(\"odd\")\n",
    "    print(i)"
   ]
  },
  {
   "cell_type": "code",
   "execution_count": null,
   "id": "96be08ae",
   "metadata": {},
   "outputs": [],
   "source": []
  }
 ],
 "metadata": {
  "kernelspec": {
   "display_name": "Python 3 (ipykernel)",
   "language": "python",
   "name": "python3"
  },
  "language_info": {
   "codemirror_mode": {
    "name": "ipython",
    "version": 3
   },
   "file_extension": ".py",
   "mimetype": "text/x-python",
   "name": "python",
   "nbconvert_exporter": "python",
   "pygments_lexer": "ipython3",
   "version": "3.9.12"
  }
 },
 "nbformat": 4,
 "nbformat_minor": 5
}
