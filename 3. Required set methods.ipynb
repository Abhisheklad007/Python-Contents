{
 "cells": [
  {
   "cell_type": "code",
   "execution_count": 1,
   "id": "721854e6",
   "metadata": {},
   "outputs": [],
   "source": [
    "# Required set methods\n",
    "#1 add method\n",
    "\n",
    "names= {\"abhi\", \"sourya\", \"manish\", \"tuka\"}\n",
    "\n",
    "names.add(\"vikas\")"
   ]
  },
  {
   "cell_type": "code",
   "execution_count": 2,
   "id": "b3bef968",
   "metadata": {},
   "outputs": [
    {
     "data": {
      "text/plain": [
       "{'abhi', 'manish', 'sourya', 'tuka', 'vikas'}"
      ]
     },
     "execution_count": 2,
     "metadata": {},
     "output_type": "execute_result"
    }
   ],
   "source": [
    "names"
   ]
  },
  {
   "cell_type": "code",
   "execution_count": 3,
   "id": "27f2087e",
   "metadata": {},
   "outputs": [
    {
     "data": {
      "text/plain": [
       "{1, 2, 3, 4, 5, 6}"
      ]
     },
     "execution_count": 3,
     "metadata": {},
     "output_type": "execute_result"
    }
   ],
   "source": [
    "#2 Union method\n",
    "\n",
    "S = {1,2,3}\n",
    "R = {3,4,5,6}\n",
    "\n",
    "S|R"
   ]
  },
  {
   "cell_type": "code",
   "execution_count": 4,
   "id": "aec32067",
   "metadata": {},
   "outputs": [
    {
     "data": {
      "text/plain": [
       "{3, 4, 5}"
      ]
     },
     "execution_count": 4,
     "metadata": {},
     "output_type": "execute_result"
    }
   ],
   "source": [
    "#3 Intersection method\n",
    "\n",
    "A = {1,2,3,4,5}\n",
    "B = {3,4,5,6,7}\n",
    "\n",
    "A & B"
   ]
  },
  {
   "cell_type": "code",
   "execution_count": 5,
   "id": "e09dc829",
   "metadata": {},
   "outputs": [
    {
     "data": {
      "text/plain": [
       "{1, 2}"
      ]
     },
     "execution_count": 5,
     "metadata": {},
     "output_type": "execute_result"
    }
   ],
   "source": [
    "#4 Difference method\n",
    "\n",
    "A = {1,2,3,4,5}\n",
    "B = {3,4,5,6,7}\n",
    "\n",
    "A - B\n"
   ]
  },
  {
   "cell_type": "code",
   "execution_count": 6,
   "id": "bd9b3848",
   "metadata": {},
   "outputs": [
    {
     "data": {
      "text/plain": [
       "{1, 2, 6, 7}"
      ]
     },
     "execution_count": 6,
     "metadata": {},
     "output_type": "execute_result"
    }
   ],
   "source": [
    "#5 Symmetric difference method\n",
    "\n",
    "A = {1,2,3,4,5}\n",
    "B = {3,4,5,6,7}\n",
    "\n",
    "A ^ B"
   ]
  },
  {
   "cell_type": "code",
   "execution_count": 7,
   "id": "bbd7f338",
   "metadata": {},
   "outputs": [],
   "source": [
    "# Dictionary\n",
    "\n",
    "my_dict = {\"car\":[\"suzuki\",\"audi\",\"zen\"],\"year\":[1995,1999,1998]}\n"
   ]
  },
  {
   "cell_type": "code",
   "execution_count": 8,
   "id": "b85dedb9",
   "metadata": {},
   "outputs": [
    {
     "data": {
      "text/plain": [
       "{'car': ['suzuki', 'audi', 'zen'], 'year': [1995, 1999, 1998]}"
      ]
     },
     "execution_count": 8,
     "metadata": {},
     "output_type": "execute_result"
    }
   ],
   "source": [
    "my_dict"
   ]
  },
  {
   "cell_type": "code",
   "execution_count": 9,
   "id": "f0bc55c3",
   "metadata": {},
   "outputs": [
    {
     "data": {
      "text/plain": [
       "dict_keys(['car', 'year'])"
      ]
     },
     "execution_count": 9,
     "metadata": {},
     "output_type": "execute_result"
    }
   ],
   "source": [
    "my_dict.keys()"
   ]
  },
  {
   "cell_type": "code",
   "execution_count": 10,
   "id": "c461eb69",
   "metadata": {},
   "outputs": [
    {
     "data": {
      "text/plain": [
       "dict_values([['suzuki', 'audi', 'zen'], [1995, 1999, 1998]])"
      ]
     },
     "execution_count": 10,
     "metadata": {},
     "output_type": "execute_result"
    }
   ],
   "source": [
    "my_dict.values()"
   ]
  },
  {
   "cell_type": "code",
   "execution_count": 11,
   "id": "a557c9d8",
   "metadata": {},
   "outputs": [
    {
     "data": {
      "text/plain": [
       "dict_items([('car', ['suzuki', 'audi', 'zen']), ('year', [1995, 1999, 1998])])"
      ]
     },
     "execution_count": 11,
     "metadata": {},
     "output_type": "execute_result"
    }
   ],
   "source": [
    "my_dict.items()"
   ]
  },
  {
   "cell_type": "code",
   "execution_count": 12,
   "id": "27f86a02",
   "metadata": {},
   "outputs": [
    {
     "data": {
      "text/plain": [
       "[1995, 1999, 1998]"
      ]
     },
     "execution_count": 12,
     "metadata": {},
     "output_type": "execute_result"
    }
   ],
   "source": [
    "my_dict[\"year\"] # access single value"
   ]
  },
  {
   "cell_type": "code",
   "execution_count": 13,
   "id": "c9d9a7f2",
   "metadata": {},
   "outputs": [],
   "source": [
    "my_dict[\"tyers\"]=[45,55,47] # adding value"
   ]
  },
  {
   "cell_type": "code",
   "execution_count": 14,
   "id": "e4bf1f93",
   "metadata": {},
   "outputs": [
    {
     "data": {
      "text/plain": [
       "{'car': ['suzuki', 'audi', 'zen'],\n",
       " 'year': [1995, 1999, 1998],\n",
       " 'tyers': [45, 55, 47]}"
      ]
     },
     "execution_count": 14,
     "metadata": {},
     "output_type": "execute_result"
    }
   ],
   "source": [
    "my_dict"
   ]
  },
  {
   "cell_type": "code",
   "execution_count": 15,
   "id": "dd3fe82f",
   "metadata": {},
   "outputs": [
    {
     "data": {
      "text/html": [
       "<div>\n",
       "<style scoped>\n",
       "    .dataframe tbody tr th:only-of-type {\n",
       "        vertical-align: middle;\n",
       "    }\n",
       "\n",
       "    .dataframe tbody tr th {\n",
       "        vertical-align: top;\n",
       "    }\n",
       "\n",
       "    .dataframe thead th {\n",
       "        text-align: right;\n",
       "    }\n",
       "</style>\n",
       "<table border=\"1\" class=\"dataframe\">\n",
       "  <thead>\n",
       "    <tr style=\"text-align: right;\">\n",
       "      <th></th>\n",
       "      <th>car</th>\n",
       "      <th>year</th>\n",
       "      <th>tyers</th>\n",
       "    </tr>\n",
       "  </thead>\n",
       "  <tbody>\n",
       "    <tr>\n",
       "      <th>0</th>\n",
       "      <td>suzuki</td>\n",
       "      <td>1995</td>\n",
       "      <td>45</td>\n",
       "    </tr>\n",
       "    <tr>\n",
       "      <th>1</th>\n",
       "      <td>audi</td>\n",
       "      <td>1999</td>\n",
       "      <td>55</td>\n",
       "    </tr>\n",
       "    <tr>\n",
       "      <th>2</th>\n",
       "      <td>zen</td>\n",
       "      <td>1998</td>\n",
       "      <td>47</td>\n",
       "    </tr>\n",
       "  </tbody>\n",
       "</table>\n",
       "</div>"
      ],
      "text/plain": [
       "      car  year  tyers\n",
       "0  suzuki  1995     45\n",
       "1    audi  1999     55\n",
       "2     zen  1998     47"
      ]
     },
     "execution_count": 15,
     "metadata": {},
     "output_type": "execute_result"
    }
   ],
   "source": [
    "import pandas as pd\n",
    "pd.DataFrame(my_dict)"
   ]
  },
  {
   "cell_type": "code",
   "execution_count": 18,
   "id": "0fd01352",
   "metadata": {},
   "outputs": [],
   "source": [
    "del my_dict[\"tyers\"]"
   ]
  },
  {
   "cell_type": "code",
   "execution_count": 19,
   "id": "bd6a587e",
   "metadata": {},
   "outputs": [
    {
     "data": {
      "text/plain": [
       "{'car': ['suzuki', 'audi', 'zen'], 'year': [1995, 1999, 1998]}"
      ]
     },
     "execution_count": 19,
     "metadata": {},
     "output_type": "execute_result"
    }
   ],
   "source": [
    "my_dict"
   ]
  },
  {
   "cell_type": "code",
   "execution_count": 20,
   "id": "07aac4cd",
   "metadata": {},
   "outputs": [
    {
     "data": {
      "text/plain": [
       "['suzuki', 'audi', 'zen']"
      ]
     },
     "execution_count": 20,
     "metadata": {},
     "output_type": "execute_result"
    }
   ],
   "source": [
    "my_dict.pop(\"car\")"
   ]
  },
  {
   "cell_type": "code",
   "execution_count": 21,
   "id": "885aa5f9",
   "metadata": {},
   "outputs": [
    {
     "data": {
      "text/plain": [
       "{'year': [1995, 1999, 1998]}"
      ]
     },
     "execution_count": 21,
     "metadata": {},
     "output_type": "execute_result"
    }
   ],
   "source": [
    "my_dict"
   ]
  },
  {
   "cell_type": "code",
   "execution_count": null,
   "id": "e8ef741d",
   "metadata": {},
   "outputs": [],
   "source": []
  }
 ],
 "metadata": {
  "kernelspec": {
   "display_name": "Python 3 (ipykernel)",
   "language": "python",
   "name": "python3"
  },
  "language_info": {
   "codemirror_mode": {
    "name": "ipython",
    "version": 3
   },
   "file_extension": ".py",
   "mimetype": "text/x-python",
   "name": "python",
   "nbconvert_exporter": "python",
   "pygments_lexer": "ipython3",
   "version": "3.9.12"
  }
 },
 "nbformat": 4,
 "nbformat_minor": 5
}
