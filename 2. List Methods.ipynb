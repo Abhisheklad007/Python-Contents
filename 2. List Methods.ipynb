{
 "cells": [
  {
   "cell_type": "code",
   "execution_count": 1,
   "id": "6b9b1e9c",
   "metadata": {},
   "outputs": [],
   "source": [
    "# List Methods\n",
    "\n",
    "#1 append method\n",
    "\n",
    "l= [\"car\", \"bike\", \"cycle\"]\n",
    "\n",
    "\n",
    "\n"
   ]
  },
  {
   "cell_type": "code",
   "execution_count": 2,
   "id": "8ad9f44e",
   "metadata": {},
   "outputs": [],
   "source": [
    "l.append(\"motor\")"
   ]
  },
  {
   "cell_type": "code",
   "execution_count": 3,
   "id": "a66d39a3",
   "metadata": {},
   "outputs": [
    {
     "data": {
      "text/plain": [
       "['car', 'bike', 'cycle', 'motor']"
      ]
     },
     "execution_count": 3,
     "metadata": {},
     "output_type": "execute_result"
    }
   ],
   "source": [
    "l"
   ]
  },
  {
   "cell_type": "code",
   "execution_count": 4,
   "id": "988bf510",
   "metadata": {},
   "outputs": [],
   "source": [
    "#2 Clear Method\n",
    "\n",
    "k= [\"car\", \"bike\", \"cycle\"]"
   ]
  },
  {
   "cell_type": "code",
   "execution_count": 5,
   "id": "23d1be05",
   "metadata": {},
   "outputs": [],
   "source": [
    "k.clear()"
   ]
  },
  {
   "cell_type": "code",
   "execution_count": 6,
   "id": "36cfed25",
   "metadata": {},
   "outputs": [
    {
     "data": {
      "text/plain": [
       "[]"
      ]
     },
     "execution_count": 6,
     "metadata": {},
     "output_type": "execute_result"
    }
   ],
   "source": [
    "k"
   ]
  },
  {
   "cell_type": "code",
   "execution_count": 7,
   "id": "5830752e",
   "metadata": {},
   "outputs": [],
   "source": [
    "#3 Copy Method\n",
    "\n",
    "k= [\"car\", \"bike\", \"cycle\"]"
   ]
  },
  {
   "cell_type": "code",
   "execution_count": 8,
   "id": "d4281fb9",
   "metadata": {},
   "outputs": [],
   "source": [
    "k1=k.copy()"
   ]
  },
  {
   "cell_type": "code",
   "execution_count": 9,
   "id": "ed39ba0c",
   "metadata": {},
   "outputs": [
    {
     "data": {
      "text/plain": [
       "['car', 'bike', 'cycle']"
      ]
     },
     "execution_count": 9,
     "metadata": {},
     "output_type": "execute_result"
    }
   ],
   "source": [
    "k1"
   ]
  },
  {
   "cell_type": "code",
   "execution_count": 10,
   "id": "f874a2ab",
   "metadata": {},
   "outputs": [],
   "source": [
    "#4 count method\n",
    "\n",
    "p= [\"rohan\", \"abhi\", \"juned\", \"abhi\", \"rohan\"]"
   ]
  },
  {
   "cell_type": "code",
   "execution_count": 11,
   "id": "081d32e4",
   "metadata": {},
   "outputs": [
    {
     "data": {
      "text/plain": [
       "2"
      ]
     },
     "execution_count": 11,
     "metadata": {},
     "output_type": "execute_result"
    }
   ],
   "source": [
    "p.count(\"abhi\")"
   ]
  },
  {
   "cell_type": "code",
   "execution_count": 12,
   "id": "6ab50da9",
   "metadata": {},
   "outputs": [
    {
     "data": {
      "text/plain": [
       "2"
      ]
     },
     "execution_count": 12,
     "metadata": {},
     "output_type": "execute_result"
    }
   ],
   "source": [
    "p.count(\"rohan\")"
   ]
  },
  {
   "cell_type": "code",
   "execution_count": 13,
   "id": "85158296",
   "metadata": {},
   "outputs": [
    {
     "data": {
      "text/plain": [
       "1"
      ]
     },
     "execution_count": 13,
     "metadata": {},
     "output_type": "execute_result"
    }
   ],
   "source": [
    "p.count(\"juned\")"
   ]
  },
  {
   "cell_type": "code",
   "execution_count": 26,
   "id": "155a656c",
   "metadata": {},
   "outputs": [
    {
     "data": {
      "text/plain": [
       "['car',\n",
       " 'bike',\n",
       " 'cycle',\n",
       " 'motor',\n",
       " ['volvo', 'car', 'Bus'],\n",
       " ['volvo', 'car', 'Bus']]"
      ]
     },
     "execution_count": 26,
     "metadata": {},
     "output_type": "execute_result"
    }
   ],
   "source": [
    "#5 Extend method\n",
    "# 1st use append method to add one list to another\n",
    "\n",
    "t= [\"volvo\", \"car\", \"Bus\"]    # Need to ask sir\n",
    "l.append(t)\n",
    "l\n"
   ]
  },
  {
   "cell_type": "code",
   "execution_count": 29,
   "id": "09c984ee",
   "metadata": {},
   "outputs": [],
   "source": [
    "# Another way of extend method\n",
    "animals= [\"tiger\", \"lion\",\"cat\"]\n",
    "\n",
    "numbers= [\"one\", \"two\", \"three\"]\n",
    "\n",
    "\n",
    "numbers.extend(animals)\n"
   ]
  },
  {
   "cell_type": "code",
   "execution_count": 30,
   "id": "c10a4866",
   "metadata": {},
   "outputs": [
    {
     "data": {
      "text/plain": [
       "['one', 'two', 'three', 'tiger', 'lion', 'cat']"
      ]
     },
     "execution_count": 30,
     "metadata": {},
     "output_type": "execute_result"
    }
   ],
   "source": [
    "numbers"
   ]
  },
  {
   "cell_type": "code",
   "execution_count": 1,
   "id": "63a4fe98",
   "metadata": {},
   "outputs": [
    {
     "data": {
      "text/plain": [
       "2"
      ]
     },
     "execution_count": 1,
     "metadata": {},
     "output_type": "execute_result"
    }
   ],
   "source": [
    "#6 Index Method\n",
    "\n",
    "animals= [\"tiger\", \"lion\",\"cat\"]\n",
    "animals.index(\"cat\")"
   ]
  },
  {
   "cell_type": "code",
   "execution_count": 9,
   "id": "d620916f",
   "metadata": {},
   "outputs": [],
   "source": [
    "#7 Insert Method\n",
    "\n",
    "k= [\"colour\",\"fat\",\"done\"]\n",
    "\n",
    "k.insert(3,\"fan\")"
   ]
  },
  {
   "cell_type": "code",
   "execution_count": 10,
   "id": "9dcdd207",
   "metadata": {},
   "outputs": [
    {
     "data": {
      "text/plain": [
       "['colour', 'fat', 'done', 'fan']"
      ]
     },
     "execution_count": 10,
     "metadata": {},
     "output_type": "execute_result"
    }
   ],
   "source": [
    "k"
   ]
  },
  {
   "cell_type": "code",
   "execution_count": 11,
   "id": "a648c1be",
   "metadata": {},
   "outputs": [
    {
     "data": {
      "text/plain": [
       "'banana'"
      ]
     },
     "execution_count": 11,
     "metadata": {},
     "output_type": "execute_result"
    }
   ],
   "source": [
    "#8 Pop method\n",
    "\n",
    "names= [\"ice\", \"banana\", \"cake\", \"jam\"]\n",
    "\n",
    "names.pop(1)"
   ]
  },
  {
   "cell_type": "code",
   "execution_count": 12,
   "id": "a7ae00e2",
   "metadata": {},
   "outputs": [
    {
     "data": {
      "text/plain": [
       "['ice', 'cake', 'jam']"
      ]
     },
     "execution_count": 12,
     "metadata": {},
     "output_type": "execute_result"
    }
   ],
   "source": [
    "names"
   ]
  },
  {
   "cell_type": "code",
   "execution_count": 13,
   "id": "8dd73e49",
   "metadata": {},
   "outputs": [],
   "source": [
    "#9 remove method\n",
    "\n",
    "cars= [\"volvo\",\"suzuki\", \"zen\"]\n",
    "\n",
    "cars.remove(\"zen\")"
   ]
  },
  {
   "cell_type": "code",
   "execution_count": 14,
   "id": "8c761fc9",
   "metadata": {},
   "outputs": [
    {
     "data": {
      "text/plain": [
       "['volvo', 'suzuki']"
      ]
     },
     "execution_count": 14,
     "metadata": {},
     "output_type": "execute_result"
    }
   ],
   "source": [
    "cars"
   ]
  },
  {
   "cell_type": "code",
   "execution_count": 15,
   "id": "7d8f4824",
   "metadata": {},
   "outputs": [],
   "source": [
    "#10 Reverse method\n",
    "\n",
    "a= [1,3,6,4,5]\n",
    "\n",
    "a.reverse()"
   ]
  },
  {
   "cell_type": "code",
   "execution_count": 16,
   "id": "8ea0466b",
   "metadata": {},
   "outputs": [
    {
     "data": {
      "text/plain": [
       "[5, 4, 6, 3, 1]"
      ]
     },
     "execution_count": 16,
     "metadata": {},
     "output_type": "execute_result"
    }
   ],
   "source": [
    "a"
   ]
  },
  {
   "cell_type": "code",
   "execution_count": 17,
   "id": "0d8329fd",
   "metadata": {},
   "outputs": [],
   "source": [
    "#11 sort method\n",
    "\n",
    "a= [1,3,6,4,5]\n",
    "\n",
    "a.sort()"
   ]
  },
  {
   "cell_type": "code",
   "execution_count": 18,
   "id": "b0b98ee2",
   "metadata": {},
   "outputs": [
    {
     "data": {
      "text/plain": [
       "[1, 3, 4, 5, 6]"
      ]
     },
     "execution_count": 18,
     "metadata": {},
     "output_type": "execute_result"
    }
   ],
   "source": [
    "a"
   ]
  },
  {
   "cell_type": "code",
   "execution_count": null,
   "id": "3fc6f65f",
   "metadata": {},
   "outputs": [],
   "source": []
  }
 ],
 "metadata": {
  "kernelspec": {
   "display_name": "Python 3 (ipykernel)",
   "language": "python",
   "name": "python3"
  },
  "language_info": {
   "codemirror_mode": {
    "name": "ipython",
    "version": 3
   },
   "file_extension": ".py",
   "mimetype": "text/x-python",
   "name": "python",
   "nbconvert_exporter": "python",
   "pygments_lexer": "ipython3",
   "version": "3.9.12"
  }
 },
 "nbformat": 4,
 "nbformat_minor": 5
}
